{
 "cells": [
  {
   "cell_type": "markdown",
   "metadata": {},
   "source": [
    "## Name: FileCompiler"
   ]
  },
  {
   "cell_type": "code",
   "execution_count": 3,
   "metadata": {},
   "outputs": [],
   "source": [
    "#List necessary packages\n",
    "import glob as gl\n",
    "import pandas as pd\n",
    "import os\n"
   ]
  },
  {
   "cell_type": "markdown",
   "metadata": {},
   "source": [
    "### Name: MSCompiler\n",
    "\n",
    "#### What It Does: \n",
    "Extracts desired column/row values from all brand .csv mainsheet files.\n",
    "\n",
    "#### How To Use It: \n",
    "-\n",
    "\n",
    "#### How It Works:\n",
    "Indexes all brand folder, \n",
    "opens each folder, \n",
    "identifies files with \"main--\" prefix, \n",
    "opens them, \n",
    "subsets them as desired, \n",
    "joins appends data to \"CompiledMainSheet\" dataframe, \n",
    "exports \"CompiledMainSheet\" to specified location.\n",
    "\n",
    "#### Troubleshooting & Notes:\n",
    "-"
   ]
  },
  {
   "cell_type": "code",
   "execution_count": null,
   "metadata": {},
   "outputs": [],
   "source": [
    "#Check id duplicates of main--*.csv files and resolve any issues\n",
    "\n",
    "def MScheck():\n",
    "\n",
    "    AllBrandFolderPath = \"//192.168.2.32/GoogleDrive/Completed Magento Uploads (v 1.0)\"\n",
    "    AllBrandFolders = os.listdir(AllBrandFolderPath)\n",
    "\n",
    "    for b in range(len(AllBrandFolders)):\n",
    "\n",
    "        BrandPath = AllBrandFolderPath+\"/\"+AllBrandFolders[b]\n",
    "        BrandMSpath = BrandPath+\"/main--*.csv\"\n",
    "        filecount = len(gl.glob(BrandMSpath))\n",
    "        if filecount != 1:\n",
    "            print(AllBrandFolders[b], filecount)\n",
    "\n",
    "MScheck()"
   ]
  },
  {
   "cell_type": "code",
   "execution_count": null,
   "metadata": {},
   "outputs": [],
   "source": [
    "#Compile all brand mainsheet data into \"CompiledMainSheet\" dataframe\n",
    "\n",
    "def MScompile():\n",
    "    \n",
    "    low_memory=False\n",
    "    CompiledMainSheet = pd.DataFrame\n",
    "    AllColumns = []\n",
    "\n",
    "    AllBrandFolderPath = \"//192.168.2.32/GoogleDrive/Completed Magento Uploads (v 1.0)\"\n",
    "    AllBrandFolders = os.listdir(AllBrandFolderPath)\n",
    "\n",
    "    for b in range(len(AllBrandFolders)):\n",
    "        print((len(AllBrandFolders)-b))\n",
    "        BrandPath= str(AllBrandFolderPath+\"/\"+AllBrandFolders[b])\n",
    "        BrandMSpath = BrandPath+\"/main--*.csv\"\n",
    "        filecount = len(gl.glob(BrandMSpath))\n",
    "        if filecount == 1:\n",
    "            MSFile = gl.glob(BrandMSpath)[0]     \n",
    "            BrandMS = list(map(str.strip, (pd.read_csv(MSFile, encoding='mac_roman').columns)))\n",
    "            AllColumns = list(set(AllColumns + BrandMS))\n",
    "    return(AllColumns)\n",
    "\n",
    "\n",
    "AllColumns))\n",
    "              \n",
    "len(AllColumns)\n",
    "cols = MScompile()\n",
    "b = 1\n",
    "\n",
    "AllColumns.strip()\n",
    "\n",
    "type(AllColumns)\n",
    "CompiledMainSheet = CompiledMainSheet.append(BrandMS)\n",
    "\n",
    "\n",
    "list1 = [\"This\" , \"is\", \"a\", \"sample\", \"program\"]\n",
    "list2 = [10, 2, 45, 3, 5, 7, 8, 10]\n",
    "list3 = [11, 12, 13]\n",
    "\n",
    "finalList = (list1 + list2 + list3).unique()\n"
   ]
  }
 ],
 "metadata": {
  "kernelspec": {
   "display_name": "Python 3",
   "language": "python",
   "name": "python3"
  },
  "language_info": {
   "codemirror_mode": {
    "name": "ipython",
    "version": 3
   },
   "file_extension": ".py",
   "mimetype": "text/x-python",
   "name": "python",
   "nbconvert_exporter": "python",
   "pygments_lexer": "ipython3",
   "version": "3.7.3"
  }
 },
 "nbformat": 4,
 "nbformat_minor": 4
}
