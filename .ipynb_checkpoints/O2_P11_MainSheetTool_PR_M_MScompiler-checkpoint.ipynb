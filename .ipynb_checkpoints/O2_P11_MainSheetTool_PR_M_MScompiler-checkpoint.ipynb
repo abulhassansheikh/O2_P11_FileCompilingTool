{
 "cells": [
  {
   "cell_type": "markdown",
   "metadata": {},
   "source": [
    "### Name: MScompiler\n",
    "\n",
    "#### What It Does: \n",
    "Extracts desired column/row values from all brand .csv mainsheet files.\n",
    "\n",
    "#### How To Use It: \n",
    "\n",
    "\n",
    "#### How It Works:\n",
    "Indexes all brand folder, \n",
    "opens each folder, \n",
    "identifies files with \"main--\" prefix, \n",
    "opens them, \n",
    "subsets them as desired, \n",
    "joins appends data to \"CompiledMainSheet\" dataframe, \n",
    "exports \"CompiledMainSheet\" to specified location.\n",
    "\n",
    "#### Troubleshooting & Notes:\n"
   ]
  },
  {
   "cell_type": "code",
   "execution_count": 27,
   "metadata": {},
   "outputs": [],
   "source": [
    "#List necessary packages\n",
    "import glob as gl\n",
    "import pandas as pd\n",
    "import os\n"
   ]
  },
  {
   "cell_type": "code",
   "execution_count": null,
   "metadata": {},
   "outputs": [],
   "source": [
    "#Check id duplicates of main--*.csv files and resolve any issues\n",
    "\n",
    "def MScheck():\n",
    "\n",
    "    AllBrandFolderPath = \"//192.168.2.32/GoogleDrive/Completed Magento Uploads (v 1.0)\"\n",
    "    AllBrandFolders = os.listdir(AllBrandFolderPath)\n",
    "\n",
    "    for b in range(len(AllBrandFolders)):\n",
    "\n",
    "        BrandPath = AllBrandFolderPath+\"/\"+AllBrandFolders[b]\n",
    "        BrandMSpath = BrandPath+\"/main--*.csv\"\n",
    "        filecount = len(gl.glob(BrandMSpath))\n",
    "        if filecount != 1:\n",
    "            print(AllBrandFolders[b], filecount)\n",
    "\n",
    "MScheck()"
   ]
  },
  {
   "cell_type": "code",
   "execution_count": null,
   "metadata": {},
   "outputs": [],
   "source": [
    "\n",
    "CompiledMainSheet = pd.DataFrame\n",
    "\n",
    "        \n",
    "AllBrandFolderPath = \"//192.168.2.32/GoogleDrive/Completed Magento Uploads (v 1.0)\"\n",
    "AllBrandFolders = os.listdir(AllBrandFolderPath)\n",
    "\n",
    "for b in range(len(AllBrandFolders)):\n",
    "    \n",
    "    BrandPath = AllBrandFolderPath+\"/\"+AllBrandFolders[b]\n",
    "    BrandMSpath = BrandPath+\"/main--*.csv\"\n",
    "    filecount = len(gl.glob(BrandMSpath))\n",
    "    if filecount != 1:\n",
    "        print(AllBrandFolders[b], filecount)\n",
    "    \n",
    "MSFile = gl.glob(BrandMSpath)[0]        \n",
    "\n",
    "BrandMS = pd.read_csv(MSFile, encoding='mac_roman')\n",
    "\n",
    "CompiledMainSheet = CompiledMainSheet.append(BrandMS)\n"
   ]
  }
 ],
 "metadata": {
  "kernelspec": {
   "display_name": "Python 3",
   "language": "python",
   "name": "python3"
  },
  "language_info": {
   "codemirror_mode": {
    "name": "ipython",
    "version": 3
   },
   "file_extension": ".py",
   "mimetype": "text/x-python",
   "name": "python",
   "nbconvert_exporter": "python",
   "pygments_lexer": "ipython3",
   "version": "3.7.3"
  }
 },
 "nbformat": 4,
 "nbformat_minor": 4
}
